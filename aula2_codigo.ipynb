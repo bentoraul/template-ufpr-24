{
 "cells": [
  {
   "cell_type": "code",
   "execution_count": 3,
   "metadata": {},
   "outputs": [
    {
     "ename": "NameError",
     "evalue": "name 'populacao' is not defined",
     "output_type": "error",
     "traceback": [
      "\u001b[1;31m---------------------------------------------------------------------------\u001b[0m",
      "\u001b[1;31mNameError\u001b[0m                                 Traceback (most recent call last)",
      "Cell \u001b[1;32mIn[3], line 4\u001b[0m\n\u001b[0;32m      2\u001b[0m parana_crescimento \u001b[38;5;241m=\u001b[39m \u001b[38;5;241m0.02\u001b[39m\n\u001b[0;32m      3\u001b[0m populacao_a_mais_2025 \u001b[38;5;241m=\u001b[39m parana_populacao \u001b[38;5;241m*\u001b[39m parana_crescimento\n\u001b[1;32m----> 4\u001b[0m populacao_2025 \u001b[38;5;241m=\u001b[39m \u001b[43mpopulacao\u001b[49m\n\u001b[0;32m      5\u001b[0m parana_população \u001b[38;5;241m*\u001b[39m parana_crescimento\n",
      "\u001b[1;31mNameError\u001b[0m: name 'populacao' is not defined"
     ]
    }
   ],
   "source": [
    "parana_populacao = 11\n",
    "parana_crescimento = 0.02\n",
    "populacao_a_mais_2025 = parana_populacao * parana_crescimento\n",
    "populacao_2025 = populacao\n",
    "parana_população * parana_crescimento"
   ]
  },
  {
   "cell_type": "code",
   "execution_count": null,
   "metadata": {},
   "outputs": [],
   "source": [
    "a_mais"
   ]
  }
 ],
 "metadata": {
  "kernelspec": {
   "display_name": "Python 3",
   "language": "python",
   "name": "python3"
  },
  "language_info": {
   "codemirror_mode": {
    "name": "ipython",
    "version": 3
   },
   "file_extension": ".py",
   "mimetype": "text/x-python",
   "name": "python",
   "nbconvert_exporter": "python",
   "pygments_lexer": "ipython3",
   "version": "3.12.2"
  }
 },
 "nbformat": 4,
 "nbformat_minor": 2
}
