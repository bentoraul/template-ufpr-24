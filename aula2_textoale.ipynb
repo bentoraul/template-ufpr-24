{
 "cells": [
  {
   "cell_type": "code",
   "execution_count": 2,
   "metadata": {},
   "outputs": [
    {
     "name": "stdout",
     "output_type": "stream",
     "text": [
      "sauhushdh\n"
     ]
    }
   ],
   "source": [
    "texto_ale=\"sauhushdh\"\n",
    "print(texto_ale)\n"
   ]
  },
  {
   "cell_type": "code",
   "execution_count": 9,
   "metadata": {},
   "outputs": [
    {
     "name": "stdout",
     "output_type": "stream",
     "text": [
      "paunocudoscoxa bento\n",
      "['paunocudoscoxa', 'bento']\n"
     ]
    }
   ],
   "source": [
    "pseudonimo = \"raul bento\"\n",
    "pseudonimo = pseudonimo.replace('raul', 'paunocudoscoxa')\n",
    "pseudonimo_lista = pseudonimo.split()\n",
    "print(pseudonimo)\n",
    "print(pseudonimo_lista)"
   ]
  },
  {
   "cell_type": "code",
   "execution_count": 23,
   "metadata": {},
   "outputs": [
    {
     "name": "stdout",
     "output_type": "stream",
     "text": [
      "paunocudoscoxa bento\n",
      "p\n",
      "dos\n"
     ]
    }
   ],
   "source": [
    "print(pseudonimo)\n",
    "print(pseudonimo[0])\n",
    "print(pseudonimo[7:10])"
   ]
  }
 ],
 "metadata": {
  "kernelspec": {
   "display_name": "Python 3",
   "language": "python",
   "name": "python3"
  },
  "language_info": {
   "codemirror_mode": {
    "name": "ipython",
    "version": 3
   },
   "file_extension": ".py",
   "mimetype": "text/x-python",
   "name": "python",
   "nbconvert_exporter": "python",
   "pygments_lexer": "ipython3",
   "version": "3.12.2"
  }
 },
 "nbformat": 4,
 "nbformat_minor": 2
}
